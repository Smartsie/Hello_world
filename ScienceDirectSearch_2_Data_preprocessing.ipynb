{
  "nbformat": 4,
  "nbformat_minor": 0,
  "metadata": {
    "colab": {
      "name": "Copy of ScienceDirectSearch - 2-Data preprocessing.ipynb",
      "provenance": [],
      "collapsed_sections": [],
      "include_colab_link": true
    },
    "kernelspec": {
      "display_name": "Python 3",
      "language": "python",
      "name": "python3"
    },
    "language_info": {
      "codemirror_mode": {
        "name": "ipython",
        "version": 3
      },
      "file_extension": ".py",
      "mimetype": "text/x-python",
      "name": "python",
      "nbconvert_exporter": "python",
      "pygments_lexer": "ipython3",
      "version": "3.6.2"
    }
  },
  "cells": [
    {
      "cell_type": "markdown",
      "metadata": {
        "id": "view-in-github",
        "colab_type": "text"
      },
      "source": [
        "<a href=\"https://colab.research.google.com/github/Smartsie/Hello_world/blob/master/ScienceDirectSearch_2_Data_preprocessing.ipynb\" target=\"_parent\"><img src=\"https://colab.research.google.com/assets/colab-badge.svg\" alt=\"Open In Colab\"/></a>"
      ]
    },
    {
      "cell_type": "code",
      "metadata": {
        "id": "cc7Y9JDvIq0v",
        "outputId": "8469274a-2b68-427c-d839-aff04f6b590c",
        "colab": {
          "base_uri": "https://localhost:8080/",
          "height": 34
        }
      },
      "source": [
        "import pandas as pd\n",
        "from textblob import TextBlob\n",
        "from google.colab import drive\n",
        "drive.mount('/content/drive')"
      ],
      "execution_count": 1,
      "outputs": [
        {
          "output_type": "stream",
          "text": [
            "Mounted at /content/drive\n"
          ],
          "name": "stdout"
        }
      ]
    },
    {
      "cell_type": "code",
      "metadata": {
        "id": "gf_R_Ds4R0-A"
      },
      "source": [
        "\n",
        "import os\n",
        "import numpy as np\n",
        "import pandas as pd\n",
        "import matplotlib.pyplot as plt\n",
        "import seaborn as sns\n",
        "import itertools\n",
        "import collections\n",
        "import nltk\n",
        "from nltk import bigrams\n",
        "from nltk.corpus import stopwords\n",
        "import re\n",
        "\n",
        "import warnings\n",
        "import nltk\n",
        "from nltk.stem import PorterStemmer\n",
        "from nltk.tokenize import sent_tokenize, word_tokenize\n",
        "from nltk.stem import WordNetLemmatizer\n",
        "#import plotly.express as px\n",
        "\n",
        "warnings.filterwarnings(\"ignore\")\n",
        "\n",
        "sns.set(font_scale=1.5)\n",
        "sns.set_style(\"whitegrid\")"
      ],
      "execution_count": 2,
      "outputs": []
    },
    {
      "cell_type": "code",
      "metadata": {
        "id": "ocRNq6w_fPkN",
        "outputId": "0e7167d7-a166-464e-8cbe-42432b08f4bf",
        "colab": {
          "base_uri": "https://localhost:8080/",
          "height": 136
        }
      },
      "source": [
        "#Download stopwords\n",
        "nltk.download('stopwords')\n",
        "stop_words = set(stopwords.words('english'))\n",
        "nltk.download('punkt')\n",
        "nltk.download('wordnet')"
      ],
      "execution_count": 3,
      "outputs": [
        {
          "output_type": "stream",
          "text": [
            "[nltk_data] Downloading package stopwords to /root/nltk_data...\n",
            "[nltk_data]   Unzipping corpora/stopwords.zip.\n",
            "[nltk_data] Downloading package punkt to /root/nltk_data...\n",
            "[nltk_data]   Unzipping tokenizers/punkt.zip.\n",
            "[nltk_data] Downloading package wordnet to /root/nltk_data...\n",
            "[nltk_data]   Unzipping corpora/wordnet.zip.\n"
          ],
          "name": "stdout"
        },
        {
          "output_type": "execute_result",
          "data": {
            "text/plain": [
              "True"
            ]
          },
          "metadata": {
            "tags": []
          },
          "execution_count": 3
        }
      ]
    },
    {
      "cell_type": "code",
      "metadata": {
        "id": "7C4XbIMAznWv"
      },
      "source": [
        "df=pd.read_csv('/content/drive/My Drive/Divers/filterdataset.csv')\n",
        "df=df.dropna(axis=0)"
      ],
      "execution_count": 4,
      "outputs": []
    },
    {
      "cell_type": "code",
      "metadata": {
        "id": "7HZLViNgTJ3K",
        "outputId": "63d051b9-be4f-4902-eb74-d3fec94813ef",
        "colab": {
          "base_uri": "https://localhost:8080/",
          "height": 547
        }
      },
      "source": [
        "df.head()"
      ],
      "execution_count": 5,
      "outputs": [
        {
          "output_type": "execute_result",
          "data": {
            "text/html": [
              "<div>\n",
              "<style scoped>\n",
              "    .dataframe tbody tr th:only-of-type {\n",
              "        vertical-align: middle;\n",
              "    }\n",
              "\n",
              "    .dataframe tbody tr th {\n",
              "        vertical-align: top;\n",
              "    }\n",
              "\n",
              "    .dataframe thead th {\n",
              "        text-align: right;\n",
              "    }\n",
              "</style>\n",
              "<table border=\"1\" class=\"dataframe\">\n",
              "  <thead>\n",
              "    <tr style=\"text-align: right;\">\n",
              "      <th></th>\n",
              "      <th>Unnamed: 0</th>\n",
              "      <th>@_fa</th>\n",
              "      <th>load-date</th>\n",
              "      <th>link</th>\n",
              "      <th>dc:identifier</th>\n",
              "      <th>prism:url</th>\n",
              "      <th>dc:title</th>\n",
              "      <th>prism:publicationName</th>\n",
              "      <th>prism:coverDate</th>\n",
              "      <th>prism:doi</th>\n",
              "      <th>openaccess</th>\n",
              "      <th>pii</th>\n",
              "      <th>Relevant</th>\n",
              "      <th>Abstract</th>\n",
              "    </tr>\n",
              "  </thead>\n",
              "  <tbody>\n",
              "    <tr>\n",
              "      <th>0</th>\n",
              "      <td>0</td>\n",
              "      <td>True</td>\n",
              "      <td>2020-09-19T00:00:00.000Z</td>\n",
              "      <td>{'self': 'https://api.elsevier.com/content/art...</td>\n",
              "      <td>DOI:10.1016/j.mechatronics.2020.102425</td>\n",
              "      <td>https://api.elsevier.com/content/article/pii/S...</td>\n",
              "      <td>Scaling of Rotational Quantities for Simultane...</td>\n",
              "      <td>Mechatronics</td>\n",
              "      <td>2020-11-30</td>\n",
              "      <td>10.1016/j.mechatronics.2020.102425</td>\n",
              "      <td>False</td>\n",
              "      <td>S0957415820300994</td>\n",
              "      <td>0</td>\n",
              "      <td>\\n                  X-in-the-loop (XiL) enable...</td>\n",
              "    </tr>\n",
              "    <tr>\n",
              "      <th>1</th>\n",
              "      <td>1</td>\n",
              "      <td>True</td>\n",
              "      <td>2016-08-24T00:00:00.000Z</td>\n",
              "      <td>{'self': 'https://api.elsevier.com/content/art...</td>\n",
              "      <td>DOI:10.1016/j.conengprac.2016.08.005</td>\n",
              "      <td>https://api.elsevier.com/content/article/pii/S...</td>\n",
              "      <td>Virtual shaft: Synchronized motion control for...</td>\n",
              "      <td>Control Engineering Practice</td>\n",
              "      <td>2016-11-30</td>\n",
              "      <td>10.1016/j.conengprac.2016.08.005</td>\n",
              "      <td>False</td>\n",
              "      <td>S0967066116301745</td>\n",
              "      <td>0</td>\n",
              "      <td>\\n                  The complexity of automobi...</td>\n",
              "    </tr>\n",
              "    <tr>\n",
              "      <th>2</th>\n",
              "      <td>2</td>\n",
              "      <td>True</td>\n",
              "      <td>2017-05-11T00:00:00.000Z</td>\n",
              "      <td>{'self': 'https://api.elsevier.com/content/art...</td>\n",
              "      <td>DOI:10.1016/S1474-6670(17)30382-8</td>\n",
              "      <td>https://api.elsevier.com/content/article/pii/S...</td>\n",
              "      <td>Implementing an MPC Algorithm in a Vehicle wit...</td>\n",
              "      <td>IFAC Proceedings Volumes</td>\n",
              "      <td>2004-04-30</td>\n",
              "      <td>10.1016/S1474-6670(17)30382-8</td>\n",
              "      <td>False</td>\n",
              "      <td>S1474667017303828</td>\n",
              "      <td>0</td>\n",
              "      <td>\\n                  Telematics provide the pos...</td>\n",
              "    </tr>\n",
              "    <tr>\n",
              "      <th>3</th>\n",
              "      <td>3</td>\n",
              "      <td>True</td>\n",
              "      <td>2017-01-29T00:00:00.000Z</td>\n",
              "      <td>{'self': 'https://api.elsevier.com/content/art...</td>\n",
              "      <td>DOI:10.1016/j.apenergy.2017.01.045</td>\n",
              "      <td>https://api.elsevier.com/content/article/pii/S...</td>\n",
              "      <td>Development of a range-extended electric vehic...</td>\n",
              "      <td>Applied Energy</td>\n",
              "      <td>2017-04-01</td>\n",
              "      <td>10.1016/j.apenergy.2017.01.045</td>\n",
              "      <td>True</td>\n",
              "      <td>S0306261917300533</td>\n",
              "      <td>0</td>\n",
              "      <td>Rapid vehicle and powertrain development has b...</td>\n",
              "    </tr>\n",
              "    <tr>\n",
              "      <th>4</th>\n",
              "      <td>4</td>\n",
              "      <td>True</td>\n",
              "      <td>2014-10-03T00:00:00.000Z</td>\n",
              "      <td>{'self': 'https://api.elsevier.com/content/art...</td>\n",
              "      <td>DOI:10.1016/j.mechmachtheory.2014.09.009</td>\n",
              "      <td>https://api.elsevier.com/content/article/pii/S...</td>\n",
              "      <td>Vehicle and powertrain dynamics analysis with ...</td>\n",
              "      <td>Mechanism and Machine Theory</td>\n",
              "      <td>2015-01-31</td>\n",
              "      <td>10.1016/j.mechmachtheory.2014.09.009</td>\n",
              "      <td>False</td>\n",
              "      <td>S0094114X14002328</td>\n",
              "      <td>0</td>\n",
              "      <td>\\n                  This paper presents an eff...</td>\n",
              "    </tr>\n",
              "  </tbody>\n",
              "</table>\n",
              "</div>"
            ],
            "text/plain": [
              "   Unnamed: 0  ...                                           Abstract\n",
              "0           0  ...  \\n                  X-in-the-loop (XiL) enable...\n",
              "1           1  ...  \\n                  The complexity of automobi...\n",
              "2           2  ...  \\n                  Telematics provide the pos...\n",
              "3           3  ...  Rapid vehicle and powertrain development has b...\n",
              "4           4  ...  \\n                  This paper presents an eff...\n",
              "\n",
              "[5 rows x 14 columns]"
            ]
          },
          "metadata": {
            "tags": []
          },
          "execution_count": 5
        }
      ]
    },
    {
      "cell_type": "code",
      "metadata": {
        "id": "2NLcpUdJTJ3M",
        "outputId": "73de9717-8980-4c78-c4cd-5de73cab1632",
        "colab": {
          "base_uri": "https://localhost:8080/",
          "height": 85
        }
      },
      "source": [
        "df.columns"
      ],
      "execution_count": 6,
      "outputs": [
        {
          "output_type": "execute_result",
          "data": {
            "text/plain": [
              "Index(['Unnamed: 0', '@_fa', 'load-date', 'link', 'dc:identifier', 'prism:url',\n",
              "       'dc:title', 'prism:publicationName', 'prism:coverDate', 'prism:doi',\n",
              "       'openaccess', 'pii', 'Relevant', 'Abstract'],\n",
              "      dtype='object')"
            ]
          },
          "metadata": {
            "tags": []
          },
          "execution_count": 6
        }
      ]
    },
    {
      "cell_type": "markdown",
      "metadata": {
        "id": "K2t-k7lfTJ3P"
      },
      "source": [
        "Data is a tabular data with journal name, link to the publication, date of publication, author and abstract"
      ]
    },
    {
      "cell_type": "code",
      "metadata": {
        "id": "Z-vkIndvTJ3P"
      },
      "source": [
        "# Define stemmer é lemmatizer\n",
        "porter=PorterStemmer()\n",
        "wordnet_lemmatizer = WordNetLemmatizer()"
      ],
      "execution_count": 7,
      "outputs": []
    },
    {
      "cell_type": "code",
      "metadata": {
        "id": "wVpBudyITJ3R"
      },
      "source": [
        "def stemSentence(sentence,lem=False):\n",
        "    token_words=word_tokenize(sentence.lower())\n",
        "    stem_sentence=[]\n",
        "    lem_sentence=[]\n",
        "    for word in token_words:\n",
        "        if word not in stop_words:\n",
        "            if lem==False:\n",
        "                stem_sentence.append(porter.stem(word)+' ')\n",
        "            else:\n",
        "                stem_sentence.append(wordnet_lemmatizer.lemmatize(word)+' ')\n",
        "    return \"\".join(stem_sentence)"
      ],
      "execution_count": 8,
      "outputs": []
    },
    {
      "cell_type": "markdown",
      "metadata": {
        "id": "zInmG6ZjTJ3T"
      },
      "source": [
        "![image.png](attachment:image.png)"
      ]
    },
    {
      "cell_type": "code",
      "metadata": {
        "id": "Rr5j7yyCTJ3T"
      },
      "source": [
        "# Strip the 58 first blank characters and remove annoying characters coming from ScienceDirect: @, \\u202f, \\n\n",
        "#start=59 \n",
        "start=1# actualy it depends on the source\n",
        "\n",
        "df[\"Clean text\"]=df[\"Abstract\"].str.slice(start=start).replace('@','').replace('\\u202f','').replace('\\n','')\n",
        "# Prepare container for Lemmetized or Stemmed data\n",
        "df[\"Lem data\"]=\"-\""
      ],
      "execution_count": 9,
      "outputs": []
    },
    {
      "cell_type": "code",
      "metadata": {
        "id": "JvToyR9fTJ3V",
        "scrolled": true,
        "outputId": "4f248ec1-553d-4406-a0c2-22c7b004d497",
        "colab": {
          "base_uri": "https://localhost:8080/",
          "height": 102
        }
      },
      "source": [
        "# Apply Stemmer to the dataframe\n",
        "# save it under this name:\n",
        "filename='/content/drive/My Drive/Divers/filterdataset_stem.csv'\n",
        "for i in range(0,len(df)):\n",
        "    df[\"Lem data\"].iloc[i]=stemSentence(df['Clean text'].iloc[i],True)\n",
        "    if i%100==0:\n",
        "        df.to_csv(filename)\n",
        "        print(i)\n",
        "df.to_csv(filename)"
      ],
      "execution_count": 12,
      "outputs": [
        {
          "output_type": "stream",
          "text": [
            "0\n",
            "100\n",
            "200\n",
            "300\n",
            "400\n"
          ],
          "name": "stdout"
        }
      ]
    },
    {
      "cell_type": "code",
      "metadata": {
        "id": "-T9JYFrOTJ3X"
      },
      "source": [
        "df.to_csv(filename)"
      ],
      "execution_count": 13,
      "outputs": []
    },
    {
      "cell_type": "code",
      "metadata": {
        "id": "jcJdUM2qTJ3Z",
        "outputId": "e8b63c22-2db5-4884-c79e-d5b388e69ed5",
        "colab": {
          "base_uri": "https://localhost:8080/",
          "height": 598
        }
      },
      "source": [
        "df.head()"
      ],
      "execution_count": null,
      "outputs": [
        {
          "output_type": "execute_result",
          "data": {
            "text/html": [
              "<div>\n",
              "<style scoped>\n",
              "    .dataframe tbody tr th:only-of-type {\n",
              "        vertical-align: middle;\n",
              "    }\n",
              "\n",
              "    .dataframe tbody tr th {\n",
              "        vertical-align: top;\n",
              "    }\n",
              "\n",
              "    .dataframe thead th {\n",
              "        text-align: right;\n",
              "    }\n",
              "</style>\n",
              "<table border=\"1\" class=\"dataframe\">\n",
              "  <thead>\n",
              "    <tr style=\"text-align: right;\">\n",
              "      <th></th>\n",
              "      <th>Unnamed: 0</th>\n",
              "      <th>@_fa</th>\n",
              "      <th>load-date</th>\n",
              "      <th>link</th>\n",
              "      <th>dc:identifier</th>\n",
              "      <th>prism:url</th>\n",
              "      <th>dc:title</th>\n",
              "      <th>prism:publicationName</th>\n",
              "      <th>prism:coverDate</th>\n",
              "      <th>prism:doi</th>\n",
              "      <th>openaccess</th>\n",
              "      <th>pii</th>\n",
              "      <th>Relevant</th>\n",
              "      <th>Abstract</th>\n",
              "      <th>Clean text</th>\n",
              "      <th>Lem data</th>\n",
              "    </tr>\n",
              "  </thead>\n",
              "  <tbody>\n",
              "    <tr>\n",
              "      <th>0</th>\n",
              "      <td>0</td>\n",
              "      <td>True</td>\n",
              "      <td>2020-09-19T00:00:00.000Z</td>\n",
              "      <td>{'self': 'https://api.elsevier.com/content/art...</td>\n",
              "      <td>DOI:10.1016/j.mechatronics.2020.102425</td>\n",
              "      <td>https://api.elsevier.com/content/article/pii/S...</td>\n",
              "      <td>Scaling of Rotational Quantities for Simultane...</td>\n",
              "      <td>Mechatronics</td>\n",
              "      <td>2020-11-30</td>\n",
              "      <td>10.1016/j.mechatronics.2020.102425</td>\n",
              "      <td>False</td>\n",
              "      <td>S0957415820300994</td>\n",
              "      <td>0</td>\n",
              "      <td>\\n                  X-in-the-loop (XiL) enable...</td>\n",
              "      <td>X-in-the-loop (XiL) enables ...</td>\n",
              "      <td>x-in-the-loop ( xil ) enables testing hardware...</td>\n",
              "    </tr>\n",
              "    <tr>\n",
              "      <th>1</th>\n",
              "      <td>1</td>\n",
              "      <td>True</td>\n",
              "      <td>2016-08-24T00:00:00.000Z</td>\n",
              "      <td>{'self': 'https://api.elsevier.com/content/art...</td>\n",
              "      <td>DOI:10.1016/j.conengprac.2016.08.005</td>\n",
              "      <td>https://api.elsevier.com/content/article/pii/S...</td>\n",
              "      <td>Virtual shaft: Synchronized motion control for...</td>\n",
              "      <td>Control Engineering Practice</td>\n",
              "      <td>2016-11-30</td>\n",
              "      <td>10.1016/j.conengprac.2016.08.005</td>\n",
              "      <td>False</td>\n",
              "      <td>S0967066116301745</td>\n",
              "      <td>0</td>\n",
              "      <td>\\n                  The complexity of automobi...</td>\n",
              "      <td>The complexity of automobile...</td>\n",
              "      <td>complexity automobile powertrains continues ri...</td>\n",
              "    </tr>\n",
              "    <tr>\n",
              "      <th>2</th>\n",
              "      <td>2</td>\n",
              "      <td>True</td>\n",
              "      <td>2017-05-11T00:00:00.000Z</td>\n",
              "      <td>{'self': 'https://api.elsevier.com/content/art...</td>\n",
              "      <td>DOI:10.1016/S1474-6670(17)30382-8</td>\n",
              "      <td>https://api.elsevier.com/content/article/pii/S...</td>\n",
              "      <td>Implementing an MPC Algorithm in a Vehicle wit...</td>\n",
              "      <td>IFAC Proceedings Volumes</td>\n",
              "      <td>2004-04-30</td>\n",
              "      <td>10.1016/S1474-6670(17)30382-8</td>\n",
              "      <td>False</td>\n",
              "      <td>S1474667017303828</td>\n",
              "      <td>0</td>\n",
              "      <td>\\n                  Telematics provide the pos...</td>\n",
              "      <td>Telematics provide the possi...</td>\n",
              "      <td>telematics provide possibility predict future ...</td>\n",
              "    </tr>\n",
              "    <tr>\n",
              "      <th>3</th>\n",
              "      <td>3</td>\n",
              "      <td>True</td>\n",
              "      <td>2017-01-29T00:00:00.000Z</td>\n",
              "      <td>{'self': 'https://api.elsevier.com/content/art...</td>\n",
              "      <td>DOI:10.1016/j.apenergy.2017.01.045</td>\n",
              "      <td>https://api.elsevier.com/content/article/pii/S...</td>\n",
              "      <td>Development of a range-extended electric vehic...</td>\n",
              "      <td>Applied Energy</td>\n",
              "      <td>2017-04-01</td>\n",
              "      <td>10.1016/j.apenergy.2017.01.045</td>\n",
              "      <td>True</td>\n",
              "      <td>S0306261917300533</td>\n",
              "      <td>0</td>\n",
              "      <td>Rapid vehicle and powertrain development has b...</td>\n",
              "      <td>apid vehicle and powertrain development has be...</td>\n",
              "      <td>apid vehicle powertrain development become ess...</td>\n",
              "    </tr>\n",
              "    <tr>\n",
              "      <th>4</th>\n",
              "      <td>4</td>\n",
              "      <td>True</td>\n",
              "      <td>2014-10-03T00:00:00.000Z</td>\n",
              "      <td>{'self': 'https://api.elsevier.com/content/art...</td>\n",
              "      <td>DOI:10.1016/j.mechmachtheory.2014.09.009</td>\n",
              "      <td>https://api.elsevier.com/content/article/pii/S...</td>\n",
              "      <td>Vehicle and powertrain dynamics analysis with ...</td>\n",
              "      <td>Mechanism and Machine Theory</td>\n",
              "      <td>2015-01-31</td>\n",
              "      <td>10.1016/j.mechmachtheory.2014.09.009</td>\n",
              "      <td>False</td>\n",
              "      <td>S0094114X14002328</td>\n",
              "      <td>0</td>\n",
              "      <td>\\n                  This paper presents an eff...</td>\n",
              "      <td>This paper presents an effec...</td>\n",
              "      <td>paper present effective formulation model auto...</td>\n",
              "    </tr>\n",
              "  </tbody>\n",
              "</table>\n",
              "</div>"
            ],
            "text/plain": [
              "   Unnamed: 0  ...                                           Lem data\n",
              "0           0  ...  x-in-the-loop ( xil ) enables testing hardware...\n",
              "1           1  ...  complexity automobile powertrains continues ri...\n",
              "2           2  ...  telematics provide possibility predict future ...\n",
              "3           3  ...  apid vehicle powertrain development become ess...\n",
              "4           4  ...  paper present effective formulation model auto...\n",
              "\n",
              "[5 rows x 16 columns]"
            ]
          },
          "metadata": {
            "tags": []
          },
          "execution_count": 51
        }
      ]
    },
    {
      "cell_type": "code",
      "metadata": {
        "id": "NxsREsBCYz3w"
      },
      "source": [
        ""
      ],
      "execution_count": null,
      "outputs": []
    }
  ]
}